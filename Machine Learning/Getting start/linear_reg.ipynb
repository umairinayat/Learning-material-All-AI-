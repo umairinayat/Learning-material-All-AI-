{
 "cells": [
  {
   "cell_type": "markdown",
   "metadata": {},
   "source": [
    "# Linear Regiression\n",
    "\n",
    "'Linear regression' is a supervised machine learning algorithm used to model the relationship between a dependent variable and one or more independent variables. It assumes a linear relationship between the variables and aims to find the best-fit line that minimizes the difference between the actual and predicted values.\n",
    "\n",
    "Linear regression is an algorithm that provides a linear relationship between an independent variable and a dependent variable to predict the outcome of future events. It is a statistical method used in data science and machine learning for predictive analysis.\n",
    "\n",
    "\n",
    "\n",
    "The equation for a simple linear regression model can be represented as:\n",
    "\n",
    "y = mx + b\n",
    "\n",
    "Where:\n",
    "\n",
    "y is the dependent variable (target variable)\n",
    "x is the independent variable (feature)\n",
    "m is the slope of the line (coefficient)\n",
    "b is the y-intercept (constant term)\n",
    "The goal of linear regression is to find the optimal values of m and b that minimize the sum of squared errors between the predicted and actual values. This is typically achieved using optimization techniques such as ordinary least squares or gradient descent.\n",
    "\n",
    "\n",
    "![alt text](https://images.spiceworks.com/wp-content/uploads/2022/04/07040339/25-4.png)\n",
    "\n",
    "\n",
    "In the above figure,\n",
    "\n",
    "* X-axis = Independent variable\n",
    "\n",
    "* Y-axis = Output / dependent variable\n",
    "\n",
    "* Line of regression = Best fit line for a model\n",
    "\n",
    "Here, a line is plotted for the given data points that suitably fit all the issues. Hence, it is called the ‘best fit line.’ The goal of the linear regression algorithm is to find this best fit line seen in the above figure.\n",
    "\n",
    "Linear regression can be used for various tasks, such as predicting house prices based on square footage, estimating sales based on advertising expenditure, or analyzing the impact of variables on a particular outcome.\n"
   ]
  },
  {
   "cell_type": "markdown",
   "metadata": {},
   "source": [
    "## Key benefits of linear regression\n",
    "Linear regression is a popular statistical tool used in data science, thanks to the several benefits it offers, such as:\n",
    "\n",
    "### 1. Easy implementation\n",
    "\n",
    "The linear regression model is computationally simple to implement as it does not demand a lot of engineering overheads, neither before the model launch nor during its maintenance.\n",
    "\n",
    "### 2. Interpretability\n",
    "\n",
    "Unlike other deep learning models (neural networks), linear regression is relatively straightforward. As a result, this algorithm stands ahead of black-box models that fall short in justifying which input variable causes the output variable to change.\n",
    "\n",
    "### 3. Scalability\n",
    "\n",
    "Linear regression is not computationally heavy and, therefore, fits well in cases where scaling is essential. For example, the model can scale well regarding increased data volume (big data). \n",
    "\n",
    "### 4. Optimal for online settings\n",
    "\n",
    "The ease of computation of these algorithms allows them to be used in online settings. The model can be trained and retrained with each new example to generate predictions in real-time, unlike the neural networks or support vector machines that are computationally heavy and require plenty of computing resources and substantial waiting time to retrain on a new dataset. All these factors make such compute-intensive models expensive and unsuitable for real-time applications."
   ]
  },
  {
   "cell_type": "markdown",
   "metadata": {},
   "source": [
    "## Types of Linear Regression with Examples\n",
    "Linear regression has been a critical driving force behind many AI and data science applications. This statistical technique is beneficial for businesses as it is a simple, interpretable, and efficient method to evaluate trends and make future estimates or forecasts.\n",
    "\n",
    "The types of linear regression models include:\n",
    "\n",
    "### 1. Simple linear regression\n",
    "Simple linear regression reveals the correlation between a dependent variable (input) and an independent variable (output). Primarily, this regression type describes the following:\n",
    "\n",
    "Relationship strength between the given variables.\n",
    "`Example:` The relationship between pollution levels and rising temperatures.\n",
    "\n",
    "The value of the dependent variable is based on the value of the independent variable.\n",
    "`Example:` The value of pollution level at a specific temperature.\n",
    "\n",
    "### 2. Multiple linear regression\n",
    "Multiple linear regression establishes the relationship between independent variables (two or more) and the corresponding dependent variable. Here, the independent variables can be either continuous or categorical. This regression type helps foresee trends, determine future values, and predict the impacts of changes.\n",
    "\n",
    "`Example:` Consider the task of calculating blood pressure. In this case, height, weight, and amount of exercise can be considered independent variables. Here, we can use multiple linear regression to analyze the relationship between the three independent variables and one dependent variable, as all the variables considered are quantitative.\n",
    "\n",
    "### 3. Logistic regression\n",
    "Logistic regression—also referred to as the logit model—is applicable in cases where there is one dependent variable and more independent variables. The fundamental difference between multiple and logistic regression is that the target variable in the logistic approach is discrete (binary or an ordinal value). Implying, the dependent variable is finite or categorical–either P or Q (binary regression) or a range of limited options P, Q, R, or S.\n",
    "\n",
    "The variable value is limited to just two possible outcomes in linear regression. However, logistic regression addresses this issue as it can return a probability score that shows the chances of any particular event.\n",
    "\n",
    "`Example:` One can determine the likelihood of choosing an offer on your website (dependent variable). For analysis purposes, you can look at various visitor characteristics such as the sites they came from, count of visits to your site, and activity on your site (independent variables). This can help determine the probability of certain visitors who are more likely to accept the offer. As a result, it allows you to make better decisions on whether to promote the offer on your site or not.\n",
    "\n",
    "Furthermore, logistic regression is extensively used in machine learning algorithms in cases such as spam email detection, predicting a loan amount for a customer, and more.\n",
    "\n",
    "### 4. Ordinal regression\n",
    "Ordinal regression involves one dependent dichotomous variable and one independent variable, which can either be ordinal or nominal. It facilitates the interaction between dependent variables with multiple ordered levels with one or more independent variables.\n",
    "\n",
    "For a dependent variable with m categories, (m -1) equations will be created. Each equation has a different intercept but the same slope coefficients for the predictor variables. Thus, ordinal regression creates multiple prediction equations for various categories. In machine learning, ordinal regression refers to ranking learning or ranking analysis computed using a generalized linear model (GLM).\n",
    "\n",
    "`Example:` Consider a survey where the respondents are supposed to answer as ‘agree’ or ‘disagree.’ In some cases, such responses are of no help as one cannot derive a definitive conclusion, complicating the generalized results. However, you can observe a natural order in the categories by adding levels to responses, such as agree, strongly agree, disagree, and strongly disagree. Ordinal regression thus helps in predicting the dependent variable having ‘ordered’ multiple categories using independent variables.\n",
    "\n",
    "### 5. Multinomial logistic regression\n",
    "Multinomial logistic regression (MLR) is performed when the dependent variable is nominal with more than two levels. It specifies the relationship between one dependent nominal variable and one or more continuous-level (interval, ratio, or dichotomous) independent variables. Here, the nominal variable refers to a variable with no intrinsic ordering.\n",
    "\n",
    "`Example:` Multinomial logit can be used to model the program choices made by school students. The program choices, in this case, refer to a vocational program, sports program, and academic program. The choice of type of program can be predicted by considering a variety of attributes, such as how well the students can read and write on the subjects given, gender, and awards received by them.\n",
    "\n",
    "Here, the dependent variable is the choice of programs with multiple levels (unordered). The multinomial logistic regression technique is used to make predictions in such a case."
   ]
  },
  {
   "cell_type": "markdown",
   "metadata": {},
   "source": [
    "### Consider five key assumptions concerning data\n",
    "Linear regression analysis can be practical and be performed accurately when the data abides by a set of rules. These are referred to as key assumptions concerning the data.\n",
    "\n",
    "#### Linear relationship\n",
    "The first important assumption of linear regression is that the dependent and independent variables should be linearly related. The relationship can be determined with the help of scatter plots that help in visualization. Also, one needs to check for outliers as linear regression is sensitive to them.\n",
    "\n",
    "#### Normal distribution of residuals\n",
    "The second assumption relates to the normal distribution of residuals or error terms, i.e., if residuals are non-normally distributed, the model-based estimation may become too wide or narrow. The non-normal distribution also underscores that you need to closely observe some unusual data points to make a good model.\n",
    "\n",
    "#### Multicollinearity\n",
    "The third assumption relates to multicollinearity, where several independent variables in a model are highly correlated. More correlated variables make it difficult to determine which variable contributes to predicting the target variable. Also, standard errors inevitably increase due to correlated variables.\n",
    "\n",
    "Moreover, with such a robust variable correlation, the predicted regression coefficient of a correlated variable further depends on the other variables available in the model, leading to wrong conclusions and poor performance. The goal, therefore, is to have minimal or lesser multicollinearity.\n",
    "\n",
    "#### Autocorrelation\n",
    "One fundamental assumption of linear regression specifies that the given dataset should not be autocorrelated. This mostly happens when residuals or error terms are not independent of each other.\n",
    "\n",
    "In other words, the situation arises when the value of f(a+1) is not independent of the value of f(a). For example, in the case of stock prices, the price of one stock depends on the cost of the previous one.\n",
    "\n",
    "#### Homoscedasticity\n",
    "Another assumption of linear regression analysis is referred to as homoscedasticity. Homoscedasticity relates to cases where the residuals (error terms) between the independent and dependent variables remain the same for all independent variable values."
   ]
  },
  {
   "cell_type": "code",
   "execution_count": 1,
   "metadata": {},
   "outputs": [],
   "source": [
    "# import libraries\n",
    "import pandas as pd\n",
    "\n",
    "import numpy as np  \n",
    "import matplotlib.pyplot as plt\n",
    "import seaborn as sns\n",
    "from sklearn.model_selection import train_test_split\n",
    "from sklearn.linear_model import LinearRegression\n",
    "from sklearn.preprocessing import StandardScaler\n",
    "from sklearn.metrics import mean_squared_error, r2_score"
   ]
  },
  {
   "cell_type": "code",
   "execution_count": 2,
   "metadata": {},
   "outputs": [
    {
     "data": {
      "text/html": [
       "<div>\n",
       "<style scoped>\n",
       "    .dataframe tbody tr th:only-of-type {\n",
       "        vertical-align: middle;\n",
       "    }\n",
       "\n",
       "    .dataframe tbody tr th {\n",
       "        vertical-align: top;\n",
       "    }\n",
       "\n",
       "    .dataframe thead th {\n",
       "        text-align: right;\n",
       "    }\n",
       "</style>\n",
       "<table border=\"1\" class=\"dataframe\">\n",
       "  <thead>\n",
       "    <tr style=\"text-align: right;\">\n",
       "      <th></th>\n",
       "      <th>total_bill</th>\n",
       "      <th>tip</th>\n",
       "      <th>sex</th>\n",
       "      <th>smoker</th>\n",
       "      <th>day</th>\n",
       "      <th>time</th>\n",
       "      <th>size</th>\n",
       "    </tr>\n",
       "  </thead>\n",
       "  <tbody>\n",
       "    <tr>\n",
       "      <th>0</th>\n",
       "      <td>16.99</td>\n",
       "      <td>1.01</td>\n",
       "      <td>Female</td>\n",
       "      <td>No</td>\n",
       "      <td>Sun</td>\n",
       "      <td>Dinner</td>\n",
       "      <td>2</td>\n",
       "    </tr>\n",
       "    <tr>\n",
       "      <th>1</th>\n",
       "      <td>10.34</td>\n",
       "      <td>1.66</td>\n",
       "      <td>Male</td>\n",
       "      <td>No</td>\n",
       "      <td>Sun</td>\n",
       "      <td>Dinner</td>\n",
       "      <td>3</td>\n",
       "    </tr>\n",
       "    <tr>\n",
       "      <th>2</th>\n",
       "      <td>21.01</td>\n",
       "      <td>3.50</td>\n",
       "      <td>Male</td>\n",
       "      <td>No</td>\n",
       "      <td>Sun</td>\n",
       "      <td>Dinner</td>\n",
       "      <td>3</td>\n",
       "    </tr>\n",
       "    <tr>\n",
       "      <th>3</th>\n",
       "      <td>23.68</td>\n",
       "      <td>3.31</td>\n",
       "      <td>Male</td>\n",
       "      <td>No</td>\n",
       "      <td>Sun</td>\n",
       "      <td>Dinner</td>\n",
       "      <td>2</td>\n",
       "    </tr>\n",
       "    <tr>\n",
       "      <th>4</th>\n",
       "      <td>24.59</td>\n",
       "      <td>3.61</td>\n",
       "      <td>Female</td>\n",
       "      <td>No</td>\n",
       "      <td>Sun</td>\n",
       "      <td>Dinner</td>\n",
       "      <td>4</td>\n",
       "    </tr>\n",
       "  </tbody>\n",
       "</table>\n",
       "</div>"
      ],
      "text/plain": [
       "   total_bill   tip     sex smoker  day    time  size\n",
       "0       16.99  1.01  Female     No  Sun  Dinner     2\n",
       "1       10.34  1.66    Male     No  Sun  Dinner     3\n",
       "2       21.01  3.50    Male     No  Sun  Dinner     3\n",
       "3       23.68  3.31    Male     No  Sun  Dinner     2\n",
       "4       24.59  3.61  Female     No  Sun  Dinner     4"
      ]
     },
     "execution_count": 2,
     "metadata": {},
     "output_type": "execute_result"
    }
   ],
   "source": [
    "# load data tips from seaborn\n",
    "\n",
    "df = sns.load_dataset('tips')\n",
    "df.head()\n"
   ]
  },
  {
   "cell_type": "code",
   "execution_count": 3,
   "metadata": {},
   "outputs": [
    {
     "data": {
      "text/plain": [
       "<Axes: xlabel='total_bill', ylabel='tip'>"
      ]
     },
     "execution_count": 3,
     "metadata": {},
     "output_type": "execute_result"
    },
    {
     "data": {
      "image/png": "[encoded data removed]",
      "text/plain": [
       "<Figure size 640x480 with 1 Axes>"
      ]
     },
     "metadata": {},
     "output_type": "display_data"
    }
   ],
   "source": [
    "sns.scatterplot(x='total_bill', y='tip', data=df)"
   ]
  },
  {
   "cell_type": "code",
   "execution_count": 4,
   "metadata": {},
   "outputs": [],
   "source": [
    "# split data into train and test\n",
    "\n",
    "X = df[['total_bill']]\n",
    "y = df['tip']\n",
    "X_train, X_test, y_train, y_test = train_test_split(X, y, test_size=0.3, random_state=42)\n"
   ]
  },
  {
   "cell_type": "code",
   "execution_count": 5,
   "metadata": {},
   "outputs": [
    {
     "data": {
      "text/html": [
       "<style>#sk-container-id-1 {color: black;}#sk-container-id-1 pre{padding: 0;}#sk-container-id-1 div.sk-toggleable {background-color: white;}#sk-container-id-1 label.sk-toggleable__label {cursor: pointer;display: block;width: 100%;margin-bottom: 0;padding: 0.3em;box-sizing: border-box;text-align: center;}#sk-container-id-1 label.sk-toggleable__label-arrow:before {content: \"▸\";float: left;margin-right: 0.25em;color: #696969;}#sk-container-id-1 label.sk-toggleable__label-arrow:hover:before {color: black;}#sk-container-id-1 div.sk-estimator:hover label.sk-toggleable__label-arrow:before {color: black;}#sk-container-id-1 div.sk-toggleable__content {max-height: 0;max-width: 0;overflow: hidden;text-align: left;background-color: #f0f8ff;}#sk-container-id-1 div.sk-toggleable__content pre {margin: 0.2em;color: black;border-radius: 0.25em;background-color: #f0f8ff;}#sk-container-id-1 input.sk-toggleable__control:checked~div.sk-toggleable__content {max-height: 200px;max-width: 100%;overflow: auto;}#sk-container-id-1 input.sk-toggleable__control:checked~label.sk-toggleable__label-arrow:before {content: \"▾\";}#sk-container-id-1 div.sk-estimator input.sk-toggleable__control:checked~label.sk-toggleable__label {background-color: #d4ebff;}#sk-container-id-1 div.sk-label input.sk-toggleable__control:checked~label.sk-toggleable__label {background-color: #d4ebff;}#sk-container-id-1 input.sk-hidden--visually {border: 0;clip: rect(1px 1px 1px 1px);clip: rect(1px, 1px, 1px, 1px);height: 1px;margin: -1px;overflow: hidden;padding: 0;position: absolute;width: 1px;}#sk-container-id-1 div.sk-estimator {font-family: monospace;background-color: #f0f8ff;border: 1px dotted black;border-radius: 0.25em;box-sizing: border-box;margin-bottom: 0.5em;}#sk-container-id-1 div.sk-estimator:hover {background-color: #d4ebff;}#sk-container-id-1 div.sk-parallel-item::after {content: \"\";width: 100%;border-bottom: 1px solid gray;flex-grow: 1;}#sk-container-id-1 div.sk-label:hover label.sk-toggleable__label {background-color: #d4ebff;}#sk-container-id-1 div.sk-serial::before {content: \"\";position: absolute;border-left: 1px solid gray;box-sizing: border-box;top: 0;bottom: 0;left: 50%;z-index: 0;}#sk-container-id-1 div.sk-serial {display: flex;flex-direction: column;align-items: center;background-color: white;padding-right: 0.2em;padding-left: 0.2em;position: relative;}#sk-container-id-1 div.sk-item {position: relative;z-index: 1;}#sk-container-id-1 div.sk-parallel {display: flex;align-items: stretch;justify-content: center;background-color: white;position: relative;}#sk-container-id-1 div.sk-item::before, #sk-container-id-1 div.sk-parallel-item::before {content: \"\";position: absolute;border-left: 1px solid gray;box-sizing: border-box;top: 0;bottom: 0;left: 50%;z-index: -1;}#sk-container-id-1 div.sk-parallel-item {display: flex;flex-direction: column;z-index: 1;position: relative;background-color: white;}#sk-container-id-1 div.sk-parallel-item:first-child::after {align-self: flex-end;width: 50%;}#sk-container-id-1 div.sk-parallel-item:last-child::after {align-self: flex-start;width: 50%;}#sk-container-id-1 div.sk-parallel-item:only-child::after {width: 0;}#sk-container-id-1 div.sk-dashed-wrapped {border: 1px dashed gray;margin: 0 0.4em 0.5em 0.4em;box-sizing: border-box;padding-bottom: 0.4em;background-color: white;}#sk-container-id-1 div.sk-label label {font-family: monospace;font-weight: bold;display: inline-block;line-height: 1.2em;}#sk-container-id-1 div.sk-label-container {text-align: center;}#sk-container-id-1 div.sk-container {/* jupyter's `normalize.less` sets `[hidden] { display: none; }` but bootstrap.min.css set `[hidden] { display: none !important; }` so we also need the `!important` here to be able to override the default hidden behavior on the sphinx rendered scikit-learn.org. See: https://github.com/scikit-learn/scikit-learn/issues/21755 */display: inline-block !important;position: relative;}#sk-container-id-1 div.sk-text-repr-fallback {display: none;}</style><div id=\"sk-container-id-1\" class=\"sk-top-container\"><div class=\"sk-text-repr-fallback\"><pre>LinearRegression()</pre><b>In a Jupyter environment, please rerun this cell to show the HTML representation or trust the notebook. <br />On GitHub, the HTML representation is unable to render, please try loading this page with nbviewer.org.</b></div><div class=\"sk-container\" hidden><div class=\"sk-item\"><div class=\"sk-estimator sk-toggleable\"><input class=\"sk-toggleable__control sk-hidden--visually\" id=\"sk-estimator-id-1\" type=\"checkbox\" checked><label for=\"sk-estimator-id-1\" class=\"sk-toggleable__label sk-toggleable__label-arrow\">LinearRegression</label><div class=\"sk-toggleable__content\"><pre>LinearRegression()</pre></div></div></div></div></div>"
      ],
      "text/plain": [
       "LinearRegression()"
      ]
     },
     "execution_count": 5,
     "metadata": {},
     "output_type": "execute_result"
    }
   ],
   "source": [
    "#call the model and fit the model\n",
    "model = LinearRegression()\n",
    "model.fit(X_train, y_train)\n"
   ]
  },
  {
   "cell_type": "code",
   "execution_count": 7,
   "metadata": {},
   "outputs": [
    {
     "name": "stdout",
     "output_type": "stream",
     "text": [
      "0.8769576391532707\n",
      "[0.10889371]\n",
      "y =  0.10889370921420227 x +  0.8769576391532707 * X\n"
     ]
    }
   ],
   "source": [
    "print(model.intercept_)\n",
    "print(model.coef_)\n",
    "print('y = ', model.coef_[0], 'x + ', model.intercept_, '* X')"
   ]
  },
  {
   "cell_type": "code",
   "execution_count": 9,
   "metadata": {},
   "outputs": [
    {
     "data": {
      "text/html": [
       "<div>\n",
       "<style scoped>\n",
       "    .dataframe tbody tr th:only-of-type {\n",
       "        vertical-align: middle;\n",
       "    }\n",
       "\n",
       "    .dataframe tbody tr th {\n",
       "        vertical-align: top;\n",
       "    }\n",
       "\n",
       "    .dataframe thead th {\n",
       "        text-align: right;\n",
       "    }\n",
       "</style>\n",
       "<table border=\"1\" class=\"dataframe\">\n",
       "  <thead>\n",
       "    <tr style=\"text-align: right;\">\n",
       "      <th></th>\n",
       "      <th>total_bill</th>\n",
       "    </tr>\n",
       "  </thead>\n",
       "  <tbody>\n",
       "    <tr>\n",
       "      <th>24</th>\n",
       "      <td>19.82</td>\n",
       "    </tr>\n",
       "    <tr>\n",
       "      <th>6</th>\n",
       "      <td>8.77</td>\n",
       "    </tr>\n",
       "    <tr>\n",
       "      <th>153</th>\n",
       "      <td>24.55</td>\n",
       "    </tr>\n",
       "    <tr>\n",
       "      <th>211</th>\n",
       "      <td>25.89</td>\n",
       "    </tr>\n",
       "    <tr>\n",
       "      <th>198</th>\n",
       "      <td>13.00</td>\n",
       "    </tr>\n",
       "    <tr>\n",
       "      <th>...</th>\n",
       "      <td>...</td>\n",
       "    </tr>\n",
       "    <tr>\n",
       "      <th>165</th>\n",
       "      <td>24.52</td>\n",
       "    </tr>\n",
       "    <tr>\n",
       "      <th>154</th>\n",
       "      <td>19.77</td>\n",
       "    </tr>\n",
       "    <tr>\n",
       "      <th>216</th>\n",
       "      <td>28.15</td>\n",
       "    </tr>\n",
       "    <tr>\n",
       "      <th>79</th>\n",
       "      <td>17.29</td>\n",
       "    </tr>\n",
       "    <tr>\n",
       "      <th>29</th>\n",
       "      <td>19.65</td>\n",
       "    </tr>\n",
       "  </tbody>\n",
       "</table>\n",
       "<p>74 rows × 1 columns</p>\n",
       "</div>"
      ],
      "text/plain": [
       "     total_bill\n",
       "24        19.82\n",
       "6          8.77\n",
       "153       24.55\n",
       "211       25.89\n",
       "198       13.00\n",
       "..          ...\n",
       "165       24.52\n",
       "154       19.77\n",
       "216       28.15\n",
       "79        17.29\n",
       "29        19.65\n",
       "\n",
       "[74 rows x 1 columns]"
      ]
     },
     "execution_count": 9,
     "metadata": {},
     "output_type": "execute_result"
    }
   ],
   "source": [
    "X_test"
   ]
  },
  {
   "cell_type": "code",
   "execution_count": 8,
   "metadata": {},
   "outputs": [],
   "source": [
    "y_pred = model.predict(X_test)"
   ]
  },
  {
   "cell_type": "code",
   "execution_count": 10,
   "metadata": {},
   "outputs": [
    {
     "data": {
      "text/plain": [
       "array([3.03523096, 1.83195547, 3.5502982 , 3.69621577, 2.29257586,\n",
       "       2.8250661 , 3.97389473, 2.23595113, 2.48640666, 2.55174289,\n",
       "       2.86862358, 2.04974289, 2.03667564, 2.45373855, 1.97351729,\n",
       "       2.90673638, 2.91435894, 3.22688388, 2.66825916, 5.36228952,\n",
       "       3.12996848, 3.12561273, 2.43522662, 1.91689256, 3.15283616,\n",
       "       2.1499251 , 1.99529603, 3.62979061, 2.6726149 , 6.12236761,\n",
       "       5.02254115, 1.71979495, 2.8163546 , 3.086411  , 2.72488388,\n",
       "       3.49911816, 2.18694896, 5.57136544, 2.30999885, 3.34557803,\n",
       "       2.02143052, 2.4580943 , 3.48496197, 2.00182966, 2.00291859,\n",
       "       1.21126133, 2.03014202, 2.91218106, 1.70019408, 2.3230661 ,\n",
       "       3.51980796, 3.84757803, 4.32997716, 2.61707911, 2.99929603,\n",
       "       2.29584267, 1.66643703, 2.81744354, 2.75646306, 2.58549994,\n",
       "       4.12743486, 2.76190775, 3.41744788, 2.64865829, 3.07987738,\n",
       "       3.15501404, 2.51145221, 1.66643703, 3.77244137, 3.54703139,\n",
       "       3.02978627, 3.94231555, 2.75972987, 3.01671903])"
      ]
     },
     "execution_count": 10,
     "metadata": {},
     "output_type": "execute_result"
    }
   ],
   "source": [
    "y_pred"
   ]
  },
  {
   "cell_type": "code",
   "execution_count": 13,
   "metadata": {},
   "outputs": [
    {
     "name": "stdout",
     "output_type": "stream",
     "text": [
      "Mean squared error: 0.75\n",
      "R2 = 0.43\n",
      "RMSE =  0.86743935521794\n"
     ]
    }
   ],
   "source": [
    "#evaluate the model\n",
    "\n",
    "print('Mean squared error: %.2f' % mean_squared_error(y_test, y_pred))\n",
    "print('R2 = %.2f' % r2_score(y_test, y_pred))\n",
    "print('RMSE = ', np.sqrt(mean_squared_error(y_test, y_pred)))\n",
    "\n"
   ]
  },
  {
   "cell_type": "code",
   "execution_count": 16,
   "metadata": {},
   "outputs": [
    {
     "data": {
      "image/png": "[encoded data removed]",
      "text/plain": [
       "<Figure size 640x480 with 1 Axes>"
      ]
     },
     "metadata": {},
     "output_type": "display_data"
    }
   ],
   "source": [
    "#plot the model\n",
    "\n",
    "plt.scatter(X_test, y_test)\n",
    "plt.plot(X_test, y_pred, color='blue', linewidth=3)\n",
    "plt.show()\n"
   ]
  },
  {
   "cell_type": "code",
   "execution_count": null,
   "metadata": {},
   "outputs": [],
   "source": []
  }
 ],
 "metadata": {
  "kernelspec": {
   "display_name": "base",
   "language": "python",
   "name": "python3"
  },
  "language_info": {
   "codemirror_mode": {
    "name": "ipython",
    "version": 3
   },
   "file_extension": ".py",
   "mimetype": "text/x-python",
   "name": "python",
   "nbconvert_exporter": "python",
   "pygments_lexer": "ipython3",
   "version": "3.11.5"
  }
 },
 "nbformat": 4,
 "nbformat_minor": 2
}
